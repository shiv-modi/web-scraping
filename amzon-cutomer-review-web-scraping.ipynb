{
 "cells": [
  {
   "cell_type": "markdown",
   "id": "6644a0c0",
   "metadata": {},
   "source": [
    "web scraping using python for amazon cutomer review"
   ]
  },
  {
   "cell_type": "code",
   "execution_count": 52,
   "id": "1735381a",
   "metadata": {},
   "outputs": [],
   "source": [
    "import requests\n",
    "from bs4 import BeautifulSoup as bs\n",
    "from urllib.request import urlopen as ureq\n",
    "import logging"
   ]
  },
  {
   "cell_type": "code",
   "execution_count": 274,
   "id": "278b4373",
   "metadata": {},
   "outputs": [
    {
     "name": "stdout",
     "output_type": "stream",
     "text": [
      "Enter a Product : apple\n"
     ]
    }
   ],
   "source": [
    "amz = input(\"Enter a Product : \")"
   ]
  },
  {
   "cell_type": "code",
   "execution_count": 275,
   "id": "2137992f",
   "metadata": {},
   "outputs": [],
   "source": [
    "amz_search = \"https://www.amazon.in/s?k=\" + amz"
   ]
  },
  {
   "cell_type": "code",
   "execution_count": 276,
   "id": "47aa7c13",
   "metadata": {},
   "outputs": [
    {
     "data": {
      "text/plain": [
       "'https://www.amazon.in/s?k=apple'"
      ]
     },
     "execution_count": 276,
     "metadata": {},
     "output_type": "execute_result"
    }
   ],
   "source": [
    "amz_search"
   ]
  },
  {
   "cell_type": "code",
   "execution_count": 277,
   "id": "2d0463c3",
   "metadata": {},
   "outputs": [],
   "source": [
    "amz_open = ureq(amz_search)"
   ]
  },
  {
   "cell_type": "code",
   "execution_count": 278,
   "id": "1ef7e42c",
   "metadata": {},
   "outputs": [],
   "source": [
    "amz_read = amz_open.read()"
   ]
  },
  {
   "cell_type": "code",
   "execution_count": 279,
   "id": "c65c50b9",
   "metadata": {},
   "outputs": [],
   "source": [
    "amz_bs = bs(amz_read,'html.parser')\n"
   ]
  },
  {
   "cell_type": "code",
   "execution_count": 280,
   "id": "dd4df85c",
   "metadata": {},
   "outputs": [],
   "source": [
    "amz_scrap = amz_bs.findAll(\"div\",{\"class\":\"sg-col-20-of-24 s-result-item s-asin sg-col-0-of-12 sg-col-16-of-20 sg-col s-widget-spacing-small sg-col-12-of-16\"})"
   ]
  },
  {
   "cell_type": "code",
   "execution_count": 281,
   "id": "56a381fe",
   "metadata": {},
   "outputs": [
    {
     "data": {
      "text/plain": [
       "16"
      ]
     },
     "execution_count": 281,
     "metadata": {},
     "output_type": "execute_result"
    }
   ],
   "source": [
    "len(amz_scrap)"
   ]
  },
  {
   "cell_type": "code",
   "execution_count": 282,
   "id": "a0cfe03c",
   "metadata": {},
   "outputs": [],
   "source": [
    "amz_product_link = \"https://www.amazon.in\" + amz_scrap[0].div.div.div.div.div.a['href']"
   ]
  },
  {
   "cell_type": "code",
   "execution_count": 283,
   "id": "5b234ae2",
   "metadata": {},
   "outputs": [
    {
     "name": "stdout",
     "output_type": "stream",
     "text": [
      "https://www.amazon.in/Apple-Original-MMTN2ZM-Lightning-Connector/dp/B01M1EEPOB\n",
      "https://www.amazon.in/Apple-MU8F2ZM-A-Pencil-Generation/dp/B07K2PK3BV\n",
      "https://www.amazon.in/Apple-Original-MNHF2ZM-Earpods-Headphone/dp/B06XDLJL26\n",
      "https://www.amazon.in/Apple-Midnight-Aluminium-Fitness-Resistant/dp/B0BDKSLQ1X\n",
      "https://www.amazon.in/gp/bestsellers/electronics/1389413031/ref=sr_bs_4_1389413031_1\n",
      "https://www.amazon.in/Apple-30W-USB-C-Power-Adapter/dp/B08FSDFJRG\n",
      "https://www.amazon.in/Apple-Watch-Cellular-Midnight-Aluminium/dp/B0BDKFPTFQ\n",
      "https://www.amazon.in/Apple-Mac_Keyboards_Magic-Keyboard_2021_/dp/B09BTMSV1X\n",
      "https://www.amazon.in/Apple-iPhone-256GB-Space-Black/dp/B0BDJFZ11C\n",
      "https://www.amazon.in/Apple-iPhone-14-128GB-Blue/dp/B0BDK62PDX\n",
      "https://www.amazon.in/Apple-Starlight-Aluminium-Fitness-Resistant/dp/B0BDKFJVTL\n",
      "https://www.amazon.in/Apple-Magic-Mouse-Bluetooth-Enabled-iPadOS/dp/B09BTNQ6MM\n",
      "https://www.amazon.in/Apple-10-2-inch-25-91-Bionic-Wi-Fi/dp/B09G9CVML5\n",
      "https://www.amazon.in/Apple-Cellular-Precision-Extra-Long-BatteryLife/dp/B0BDJWC8K5\n",
      "https://www.amazon.in/Apple-AirPods-3rd-Generation-Lightning-Charging/dp/B0BDKX75RX\n",
      "https://www.amazon.in/Apple-Desktop-Computer-10%E2%80%91core-Ethernet/dp/B0BSHSD25X\n"
     ]
    }
   ],
   "source": [
    "for i in amz_scrap:\n",
    "    print (\"https://www.amazon.in\" + i.div.div.div.div.div.a['href'])"
   ]
  },
  {
   "cell_type": "code",
   "execution_count": 284,
   "id": "40681620",
   "metadata": {},
   "outputs": [],
   "source": [
    "amz_product = requests.get(amz_product_link)"
   ]
  },
  {
   "cell_type": "code",
   "execution_count": 285,
   "id": "d74e005b",
   "metadata": {},
   "outputs": [],
   "source": [
    "amz_product_inside = bs(amz_product.text , \"html.parser\")"
   ]
  },
  {
   "cell_type": "code",
   "execution_count": 286,
   "id": "5979e442",
   "metadata": {},
   "outputs": [],
   "source": [
    "amz_product_reviews = amz_product_inside.find_all(\"div\", {\"class\":\"a-section review aok-relative\"})"
   ]
  },
  {
   "cell_type": "code",
   "execution_count": 287,
   "id": "0d7cefa3",
   "metadata": {},
   "outputs": [
    {
     "data": {
      "text/plain": [
       "8"
      ]
     },
     "execution_count": 287,
     "metadata": {},
     "output_type": "execute_result"
    }
   ],
   "source": [
    "len(amz_product_reviews)"
   ]
  },
  {
   "cell_type": "code",
   "execution_count": 288,
   "id": "62d63f57",
   "metadata": {},
   "outputs": [],
   "source": [
    "# customers name"
   ]
  },
  {
   "cell_type": "code",
   "execution_count": 289,
   "id": "f3f6757c",
   "metadata": {},
   "outputs": [],
   "source": [
    "amz_product_reviews_name = []\n",
    "for i in amz_product_reviews:\n",
    "    name = i.div.div.div.find_all(\"span\",{\"class\":'a-profile-name'})[0].text\n",
    "    amz_product_reviews_name.append(name)"
   ]
  },
  {
   "cell_type": "code",
   "execution_count": 290,
   "id": "d5aae794",
   "metadata": {},
   "outputs": [
    {
     "data": {
      "text/plain": [
       "['Senthil kumar',\n",
       " 'Patel Vidhi',\n",
       " 'ajay chauhan',\n",
       " 'varsha',\n",
       " 'Sankalp Sinha',\n",
       " 'Aravind',\n",
       " 'Dharmendra',\n",
       " 'Jawahar']"
      ]
     },
     "execution_count": 290,
     "metadata": {},
     "output_type": "execute_result"
    }
   ],
   "source": [
    "amz_product_reviews_name"
   ]
  },
  {
   "cell_type": "code",
   "execution_count": 291,
   "id": "5e9e687f",
   "metadata": {},
   "outputs": [],
   "source": [
    "# User rating "
   ]
  },
  {
   "cell_type": "code",
   "execution_count": 292,
   "id": "130440c8",
   "metadata": {},
   "outputs": [
    {
     "name": "stdout",
     "output_type": "stream",
     "text": [
      "4.0 out of 5 stars\n",
      "4.0 out of 5 stars\n",
      "4.0 out of 5 stars\n",
      "4.0 out of 5 stars\n",
      "5.0 out of 5 stars\n",
      "4.0 out of 5 stars\n",
      "4.0 out of 5 stars\n",
      "5.0 out of 5 stars\n"
     ]
    }
   ],
   "source": [
    "for i in amz_product_reviews:\n",
    "    print(i.div.div.find_all(\"span\",{\"class\":\"a-icon-alt\"})[0].text)"
   ]
  },
  {
   "cell_type": "code",
   "execution_count": 293,
   "id": "4f0946bd",
   "metadata": {},
   "outputs": [],
   "source": [
    "# customers review"
   ]
  },
  {
   "cell_type": "code",
   "execution_count": 294,
   "id": "9006706b",
   "metadata": {},
   "outputs": [
    {
     "name": "stdout",
     "output_type": "stream",
     "text": [
      "\n",
      "Good product\n",
      "Read more\n",
      "\n",
      "Nice sound\n",
      "Read more\n",
      "\n",
      "Nice sound quality but, but Airfone wire is not good\n",
      "Read more\n",
      "\n",
      "For price was expecting better quality were delicate and Apple company pricing was understandable\n",
      "Read more\n",
      "\n",
      "These Apple Earpods are a cheap alternative to wireless earbuds and can be used with iPhones. The sound quality is surprisingly good and vocals and beats are clear. But since it is a half in-ear earphones, you can hear every outside noise pretty clearly, although seem people prefer that. Also the cable is very thin so you have to be careful with it. Also the microphone quality is very good especially for calling\n",
      "Read more\n",
      "\n",
      "Everything is good except for the premium price.\n",
      "Read more\n",
      "\n",
      "Product for the i phone\n",
      "Read more\n",
      "\n",
      "This earphones are real beast and I have been using it daily since my purchase on Sep 2022. This one is a blind purchase for all the iPhone users\n",
      "Read more\n"
     ]
    }
   ],
   "source": [
    "for i in amz_product_reviews:\n",
    "    print(i.div.div.find_all(\"div\",{\"a-row a-spacing-small review-data\"})[0].text)"
   ]
  },
  {
   "cell_type": "code",
   "execution_count": null,
   "id": "71c26993",
   "metadata": {},
   "outputs": [],
   "source": []
  },
  {
   "cell_type": "code",
   "execution_count": null,
   "id": "2e170852",
   "metadata": {},
   "outputs": [],
   "source": []
  },
  {
   "cell_type": "code",
   "execution_count": null,
   "id": "80521d0f",
   "metadata": {},
   "outputs": [],
   "source": []
  }
 ],
 "metadata": {
  "kernelspec": {
   "display_name": "Python 3 (ipykernel)",
   "language": "python",
   "name": "python3"
  },
  "language_info": {
   "codemirror_mode": {
    "name": "ipython",
    "version": 3
   },
   "file_extension": ".py",
   "mimetype": "text/x-python",
   "name": "python",
   "nbconvert_exporter": "python",
   "pygments_lexer": "ipython3",
   "version": "3.10.6"
  }
 },
 "nbformat": 4,
 "nbformat_minor": 5
}
